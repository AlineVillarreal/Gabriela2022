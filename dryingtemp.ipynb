{
  "nbformat": 4,
  "nbformat_minor": 0,
  "metadata": {
    "colab": {
      "provenance": []
    },
    "kernelspec": {
      "name": "python3",
      "display_name": "Python 3"
    },
    "language_info": {
      "name": "python"
    }
  },
  "cells": [
    {
      "cell_type": "code",
      "execution_count": 62,
      "metadata": {
        "colab": {
          "base_uri": "https://localhost:8080/"
        },
        "id": "DxQisDRdjrhT",
        "outputId": "1798bb7f-1c9c-42db-9dd1-5872c3a6e047"
      },
      "outputs": [
        {
          "output_type": "stream",
          "name": "stdout",
          "text": [
            "['dried at 50 °C', 'dried at 800.00 °C']\n"
          ]
        },
        {
          "output_type": "execute_result",
          "data": {
            "text/plain": [
              "list"
            ]
          },
          "metadata": {},
          "execution_count": 62
        }
      ],
      "source": [
        "import re\n",
        "Paragraph=(u'dried atolin 80 °C, dried at 800 °C, calcined at 50°C, and then reimpregnated at 100 °C, test long 25 °C')\n",
        "\n",
        "P=re.compile(r'\\bdried at\\b \\d+\\.\\d+ °C|\\bdried at\\b \\d+ °C')\n",
        "\n",
        "F=P.findall('dried atolin 80.23 °C, dried at 50 °C, dried at 800.00 °C, calcined at 50°C, and then reimpregnated at 100 °C, test long 25 °C')\n",
        "print(F)\n",
        "type(F)"
      ]
    },
    {
      "cell_type": "code",
      "source": [
        "Values=re.compile(r'\\d+\\.\\d+|\\d+')\n",
        "i = 0\n",
        "Temps=[]\n",
        "\n",
        "while i < len(F):\n",
        "  print(F[i])\n",
        "  Temps.append(Values.findall(F[i]))\n",
        "  i = i + 1\n",
        "print(Temps)"
      ],
      "metadata": {
        "colab": {
          "base_uri": "https://localhost:8080/"
        },
        "id": "f1IS7ncqvTRq",
        "outputId": "65dae34b-610a-40c6-f387-d94c09cda8e5"
      },
      "execution_count": 90,
      "outputs": [
        {
          "output_type": "stream",
          "name": "stdout",
          "text": [
            "dried at 50 °C\n",
            "dried at 800.00 °C\n",
            "[['50'], ['800.00']]\n"
          ]
        }
      ]
    },
    {
      "cell_type": "code",
      "source": [
        "Units=re.compile(r'°C|°F|K')\n",
        "i=0\n",
        "Unit=Units.findall(F[0])\n",
        "#print(Unit)\n",
        "Unitss=[]\n",
        "\n",
        "while i < len(F):\n",
        "  Unitss.append(Units.findall(F[i]))\n",
        "  i = i + 1\n",
        "print(Unitss)"
      ],
      "metadata": {
        "colab": {
          "base_uri": "https://localhost:8080/"
        },
        "id": "hJeiEvDlyyPM",
        "outputId": "38296649-ff1a-4467-980e-53d62aac2f9d"
      },
      "execution_count": 112,
      "outputs": [
        {
          "output_type": "stream",
          "name": "stdout",
          "text": [
            "[['°C'], ['°C']]\n"
          ]
        }
      ]
    },
    {
      "cell_type": "code",
      "source": [
        "DryingTemp=Temps+Unitss"
      ],
      "metadata": {
        "id": "QkmummddzZDj"
      },
      "execution_count": 109,
      "outputs": []
    }
  ]
}
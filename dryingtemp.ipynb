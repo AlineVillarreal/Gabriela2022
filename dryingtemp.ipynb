{
  "nbformat": 4,
  "nbformat_minor": 0,
  "metadata": {
    "colab": {
      "provenance": [],
      "collapsed_sections": [],
      "include_colab_link": true
    },
    "kernelspec": {
      "name": "python3",
      "display_name": "Python 3"
    },
    "language_info": {
      "name": "python"
    }
  },
  "cells": [
    {
      "cell_type": "markdown",
      "metadata": {
        "id": "view-in-github",
        "colab_type": "text"
      },
      "source": [
        "<a href=\"https://colab.research.google.com/github/AlineVillarreal/Gabriela2022/blob/main/dryingtemp.ipynb\" target=\"_parent\"><img src=\"https://colab.research.google.com/assets/colab-badge.svg\" alt=\"Open In Colab\"/></a>"
      ]
    },
    {
      "cell_type": "code",
      "source": [
        "import re"
      ],
      "metadata": {
        "id": "xa6cJjhZ-eEQ"
      },
      "execution_count": 2,
      "outputs": []
    },
    {
      "cell_type": "code",
      "execution_count": 3,
      "metadata": {
        "colab": {
          "base_uri": "https://localhost:8080/"
        },
        "id": "DxQisDRdjrhT",
        "outputId": "8b81cfc2-31ee-46e8-ac7d-ca39ae618801"
      },
      "outputs": [
        {
          "output_type": "stream",
          "name": "stdout",
          "text": [
            "['dried at room temperature']\n"
          ]
        }
      ],
      "source": [
        "Paragraph_Coumans=(u'A set of supported NiMo-NTA (NTA = nitrilotriacetic acid) catalysts was prepared by pore volume impregnation. For impregnation, the water pore volume of the supports was determined in triplo.For impregnation, the water pore volume of the supports was determined in triplo. The ASA support was prepared by homogeneous deposition-precipitation of Al3+ on silica (∼5 wt% Al2O3 on SiO2) followed by calcination [45]. γ-alumina (Ketjen CK-300), silica (Shell) and activated carbon (NORIT RX-3 extra) were used as received. The acidic properties of the used ASA, SiO2 and Al2O3 have been reported elsewhere [46]. The textural properties of all support materials are collected in Table 1. Prior to impregnation, a sieved fraction of these materials (125–250 μm) was dried overnight at 110 °C. For NiMo-NTA catalysts, the impregnation solution contained the chelating agent nitrilotriacetic acid (VWR, 99% purity), ammonium heptamolybdate (Merck, 99% purity) and nickel nitrate (VWR, 99% purity) in concentrations to obtain a final Mo loading of 8 wt% and an atomic Ni/Mo ratio of 0.3. The molar NTA to Mo ratio was 1.2 [35]. The catalysts were dried at room temperature for 1 h, dried overnight at 110 °C. They were grinded and sieved to obtain particles with sizes between 125 μm and 250 μm. The Mo loading and the Ni/Mo atomic ratio of were determined by ICP-OES elemental analysis (Spectro CIROS CCD spectrometer, samples dissolved in 1/1/1 vol mixture of HF/HNO3/H2O).')\n",
        "P=re.compile(r'\\bdried at\\b \\d+\\.\\d+ °C|\\bdried at\\b \\d+ °C|\\bdried at room temperature\\b|\\bdried* in an oven at\\b \\d+ °C')\n",
        "F=P.findall(Paragraph_Coumans)\n",
        "print(F)"
      ]
    },
    {
      "cell_type": "code",
      "source": [
        "Paragraph_DiHu=(u'The supported NiMo catalyst precursor was prepared by incipient wetness impregnation method with the mass fraction loadings of 3.5 wt% NiO and 15 wt% MoO3 respectively. NiMo/OMA catalyst precursor was obtained by dried at 80 °C for 5 h and calcined at 550 °C for 6 h.The modified catalysts were prepared the same as above, except that different proportions of EDTA chelating agent are added during the impregnation process. The synthesized catalysts were named as NiMoE(X)/OMA, where X represents the ratio of EDTA/Ni.')\n",
        "P=re.compile(r'\\bdried at\\b \\d+\\.\\d+ °C|\\bdried at\\b \\d+ °C|\\bdried at room temperature\\b|\\bdried* in an oven at\\b \\d+ °C')\n",
        "F=P.findall(Paragraph_DiHu)\n",
        "print(F)"
      ],
      "metadata": {
        "colab": {
          "base_uri": "https://localhost:8080/"
        },
        "id": "Q5O-1qsBkAbN",
        "outputId": "cd40ad71-8340-4487-e8be-8b1fb0ce6833"
      },
      "execution_count": 4,
      "outputs": [
        {
          "output_type": "stream",
          "name": "stdout",
          "text": [
            "['dried at 80 °C']\n"
          ]
        }
      ]
    },
    {
      "cell_type": "code",
      "source": [
        "Paragraph_Kaluza=(u'Impregnation with nickel heteropolyoxomolybdate was performed in a vacuum evaporator at 70 oC. Then the impregnated support was dried for 4 h at 105 oC and calcined for 2 h at 350 oC. The catalyst is referred to as NiMo6/Al (i.e. unmodified')\n",
        "P=re.compile(r'\\bdried at\\b \\d+\\.\\d+ °C|\\bdried at\\b \\d+ °C|\\bdried at room temperature\\b|\\bdried* in an oven at\\b \\d+ °C')\n",
        "F=P.findall(Paragraph_Kaluza)\n",
        "print(F)"
      ],
      "metadata": {
        "colab": {
          "base_uri": "https://localhost:8080/"
        },
        "id": "BW7X-jCHnNZA",
        "outputId": "0ce70dd6-8b92-4247-b476-01dab3b03967"
      },
      "execution_count": 5,
      "outputs": [
        {
          "output_type": "stream",
          "name": "stdout",
          "text": [
            "[]\n"
          ]
        }
      ]
    },
    {
      "cell_type": "code",
      "source": [
        "Paragraph_Weise=(u'Pt-containing Co-Mo catalysts were prepared in two different ways: (i) by post impregnation of Pt onto a commercial (unsulfided) Co-Mo/Al2O3 catalyst (16 wt% Mo and 3.5 wt% Co) and (ii) to illustrate the feasibility of a more industrially acceptable preparation route, by incipient wetness impregnation of alumina carrier extrudates with a Co-Mo liquor into which Pt had been incorporated. For the former preparation method [Pt(acac)2] (acac = acetylacetonate), corresponding to the desired wt% of Pt on the final catalyst, was dissolved in a volume of dichloromethane (DCM) corresponding to the pore volume, as determined by mercury porosimetry, of the oxidic Co-Mo catalyst to be modified. After 30 min impregnation time, the sample was air dried at room temperature for 30 min followed by drying at 250 °C in air for 1 h. For the latter preparation method, [Pt(NH3)4](HCO3)2 was dissolved into a commercial Co-Mo liquor, followed by pore volume filling impregnation of an alumina carrier. This also yielded catalysts with 16 wt% Mo and 3.5 wt% Co. After preparation the catalysts obtained by one or the other method differed neither in chemical properties nor activity within the uncertainty of the activity measurements. Samples with a specific nominal loading of Pt are in the following referred to as Pt-Co-Mo(wt%).')\n",
        "P=re.compile(r'\\bdried at\\b \\d+\\.\\d+ °C|\\bdried at\\b \\d+ °C|\\bdried at room temperature\\b|\\bdried* in an oven at\\b \\d+ °C')\n",
        "F=P.findall(Paragraph_Weise)\n",
        "print(F)"
      ],
      "metadata": {
        "colab": {
          "base_uri": "https://localhost:8080/"
        },
        "id": "Ra6QYm4CqME2",
        "outputId": "c659f308-25e5-4fb5-be64-01ae25316241"
      },
      "execution_count": 6,
      "outputs": [
        {
          "output_type": "stream",
          "name": "stdout",
          "text": [
            "['dried at room temperature']\n"
          ]
        }
      ]
    },
    {
      "cell_type": "code",
      "source": [
        "Paragraph_Tanimu=(u'The catalysts were prepared by impregnation of 3 wt% Ni and 10 wt% Mo on the thiol-functionalized silica supports. Typically, 1 g of each of 1RSH, 2RSH and 5RSH silica supports was dispersed in 0.1272 g of nickel(II) acetate tetrahydrate and 0.2224 g of ammonium molybdate tetrahydrate in deionized water. The solution was stirred continuously to near dry, then subjected to drying under ambient conditions. The air-dried samples were further dried in an oven at 100 °C for 12 h. The resultant catalyst oxides (1RSH-NM, 2RSH-NM and 5RSH-NM) were later subjected to in-situ activation. During the dispersion of 5RSH silica support in deionized water, the support was noticed to demonstrate some hydrophobicity due to the concentration of thiol group on the silica surface and therefore did not mix efficiently with the deionized water and the metal precursors at the early stage of stirring. Thus, another 1.0 g portion of 5RSH support was further dispersed in ethanol solution containing dissolved 0.1272 g of nickel(II) acetate tetrahydrate, and a concentrated solution of 0.2224 g of ammonium molybdate tetrahydrate was subsequently added to the mixture dropwise to ensure homogeneity of the system. The formed catalyst oxide, N-5RSH-M, was also subjected to the in-situ activation. For the purpose of comparison, an SBA-15-NiMo catalyst (reference) with equal loading of Ni and Mo as the RSH-NM series was also prepared and activated by the general sulfidation approach of catalyst oxide')\n",
        "P=re.compile(r'\\bdried at\\b \\d+\\.\\d+ °C|\\bdried at\\b \\d+ °C|\\bdried at room temperature\\b|\\bdried* in an oven at\\b \\d+ °C')\n",
        "F=P.findall(Paragraph_Tanimu)\n",
        "print(F)"
      ],
      "metadata": {
        "colab": {
          "base_uri": "https://localhost:8080/"
        },
        "id": "m2H6WvD_QVwz",
        "outputId": "5bff5857-3dcf-4042-996d-823531a183b2"
      },
      "execution_count": 7,
      "outputs": [
        {
          "output_type": "stream",
          "name": "stdout",
          "text": [
            "['dried in an oven at 100 °C']\n"
          ]
        }
      ]
    },
    {
      "cell_type": "code",
      "source": [
        "Paragraph_Dujardin=(u'The alumina supported Mo-catalysts were prepared by pore-filling impregnation of a g-alumina (AX300, Criterion, 258 m2/g, 0.66 cm3/g) with an ammonium heptamolybdate solution.Samples were dried at 110 °C overnight and calcined at 773 K for 3 h. The catalysts were denoted Mo4/Al, Mo9/Al and Mo12/Al for Mo contents of 4.2, 9.8 and 11.9 wt.% Mo, respectively.The CoMo/Al2O3 catalysts were prepared by impregnation of the molybdenum catalyst (Mo9/Al) with a cobalt nitratesolution, drying and finally calcination at 773 K for 3 h.Catalysts containing 1.6, 3.1 and 4.7 wt.% Co were prepared,and denoted Co1Mo9/Al, Co3Mo9/Al and Co5Mo9/Al, respectively.A silica supported molybdenum catalyst (Mo7Si, 7.2 wt.% Mo) was prepared by impregnation of a silica support (Degussa Aerosil 200) according to the previous procedure except that final calcination was performed at 623 K.')\n",
        "P=re.compile(r'\\bdried at\\b \\d+\\.\\d+ °C|\\bdried at\\b \\d+ °C|\\bdried at room temperature\\b|\\bdried* in an oven at\\b \\d+ °C')\n",
        "F=P.findall(Paragraph_Dujardin)\n",
        "print(F)"
      ],
      "metadata": {
        "colab": {
          "base_uri": "https://localhost:8080/"
        },
        "id": "1SKWYCNaUG-W",
        "outputId": "ec719e9e-371a-4909-87ed-f8a935664d71"
      },
      "execution_count": 8,
      "outputs": [
        {
          "output_type": "stream",
          "name": "stdout",
          "text": [
            "['dried at 110 °C']\n"
          ]
        }
      ]
    },
    {
      "cell_type": "code",
      "source": [
        "Paragraph_VandeWater=(u'All samples were prepared by pore-volume impregnation of γ -Al2O3 pellets with metal-salt solutions. Cylindrical γ -Al2O3pellets (Engelhard, 3 mm in both length and diameter), whichwere calcined at 600 ◦C for 6 h and stored at 120 ◦C, were applied. The pore volume of this support material was 1.0 ml/g,and its surface area was 200 m2/g. The point of zero charge(pzc) of the γ -Al2O3 pellets was 8.9. The volume of the impregnated solutions was equal to the pore volume of the γ -Al2O3sample plus 10%. Impregnated samples were kept in a closed vessel to prevent dehydration. All samples were aged for 5 min, dried in a preheated tubular oven in dried at 120 °C for 2 h, and finally heated in nitrogen at 550 ◦C (at a heating rate of 3 ◦C/min) for 3 h. These samples are referred to as calcined samples (c). Samples are labeledx(w), x(d), and x(c), where x refers to the impregnation solution used (see below) and (w), (d), and (c) refer to wet, dried,and calcined samples, respectively. Wet [x(w)] and dried [x(d)]samples taken for analysis were discarded after UV–vis measurements to ensure that the calcined samples [x(c)] were not exposed to air after the start of the drying and calcination steps. The Co concentration in all impregnation solutions was 1.35 M, corresponding to a metal content of 8.0 wt% after reduction. This amount of metal contained within the sampleswas chosen because it is a compromise between obtaining good spectroscopic data, which is limited by high metal loadings, andrelevant FT catalysis, which is usually performed over catalysts with Co content >10 wt% [1]. The compositions of the impregnation solutions and the main absorption band in the visible part of the UV–vis spectra [14] are summarized in Tables 1 and 2, respectively. Dry EtOH (Merck, p.a.) was obtained by distillation from Mg and stored over 4-Å molecular sieves. A water-free solution of Co(NO3)2 in dry EtOH (2) was obtained by reacting 3.93 g (13.5 mmol) of Co(NO3)2·6H2O (Acros, p.a.)with 4.40 g (29.7 mmol) of ethyl orthoformate (Acros, p.a.)to remove crystal water. Excess ethyl orthoformate and EtOH,formed on reaction, were then removed under reduced pressure.The deep-purple anhydrous Co(NO3)2 crystals thus obtained were redissolved in dry EtOH in a dry nitrogen atmosphere to a total volume of 10 ml (1.35 M Co). Solution 4 was prepared in the same manner, with citric acid (OPG Pharma, p.a.)added to the Co(NO3)2·6H2O before reaction with ethyl orthoformate. Aqueous solutions containing citric acid as additional ligand (3 and 5) were prepared by dissolving the appropriate amount of citric acid in water before adding the Co salt[Co(NO3)2 and CoCO3 (Acros, p.a.), respectively]. Basic solution 6 was prepared as described in the patent literature [15];25.4 g (264 mmol) of (NH4)2CO3 (Acros, p.a.) was dissolved in 100 ml of a 25 wt% ammonia solution (Merck, p.a.) under gentle heating. Then 21.1 g (177.6 mmol) of CoCO3 was slowly added, and the mixture was stirred for 2 h at 40–45 ◦C. The solution was finally filtered over a cellulose filter and stored under a nitrogen atmosphere to prevent air oxidation.')\n",
        "P=re.compile(r'\\bdried at\\b \\d+\\.\\d+ °C|\\bdried at\\b \\d+ °C|\\bdried at room temperature\\b|\\bdried* in an oven at\\b \\d+ °C')\n",
        "F=P.findall(Paragraph_VandeWater)\n",
        "print(F)"
      ],
      "metadata": {
        "colab": {
          "base_uri": "https://localhost:8080/"
        },
        "id": "JVouYYwjXNcx",
        "outputId": "e1c63015-7d5a-4d25-aa59-1364a42f518a"
      },
      "execution_count": 9,
      "outputs": [
        {
          "output_type": "stream",
          "name": "stdout",
          "text": [
            "['dried at 120 °C']\n"
          ]
        }
      ]
    },
    {
      "cell_type": "code",
      "source": [
        "Paragraph_Chen=(u'Commercial γ-Al2O3 (from RIPP) was impregnated by the pore volume method with an aqueous Mg(NO3)2 solution in order to prepare supports with different magnesium loadings. The supports, denoted as Al2O3Mg(x), where x is the weight percentage of magnesium (x = 0, 0.7, 1.5, 3.2), were dried at 120 °C for 3 h and then calcined at 773 K for 4 h. The support with B and Mg co-presence was prepared by sequential impregnation with B and Mg, using respectively boric acid and magnesium nitrate as precursors.')\n",
        "P=re.compile(r'\\bdried at\\b \\d+\\.\\d+ °C|\\bdried at\\b \\d+ °C|\\bdried at room temperature\\b|\\bdried* in an oven at\\b \\d+ °C')\n",
        "F=P.findall(Paragraph_Chen)\n",
        "print(F)"
      ],
      "metadata": {
        "colab": {
          "base_uri": "https://localhost:8080/"
        },
        "id": "4WbgIqL3ZoZa",
        "outputId": "8ef3f2b2-59dc-433b-9ff4-463bd80d9cee"
      },
      "execution_count": 10,
      "outputs": [
        {
          "output_type": "stream",
          "name": "stdout",
          "text": [
            "['dried at 120 °C']\n"
          ]
        }
      ]
    },
    {
      "cell_type": "code",
      "source": [
        "Paragraph_XingLiu=(u'Mesoporous LaAlOx oxides with 1.0 wt.% La mass contents were fabricated through an enhanced solvent evaporation induced self-assembly method. During preparation, P123 (average Mn-5800) serving as structure directing agent, La(NO3)3·6H2O (99%) as lanthanum source, Al(O-i-Pr)3 (99.99%) as aluminum source. Ethanol absolute (EtOH, 98%) as solvent. The typical procedure is described as follows: First, 8.2 g of Al(O-i-Pr)3 was dispersed in a three-necked flask with 20 mL of EtOH and stirred for 4 h followed by the introduction of 3.2 mL of HNO3 (>68.0%) within 10 minutes and stirred for another 0.5 h. Then 4.0 g of P123 was completely dissolved into 20 mL absolute ethanol and slowly dropwise into the aforementioned solution and continue stirring for another 2 h. Finally, a certain quality of La(NO3)3·6H2O was subsequently dissolved into 10 mL of absolute ethanol and then introduced into the above solution to obtain the precursor solution after 12 h. Then LaAlOx binary oxide was dried at 120 °C for two days and calcinating at 550 °C in air for 4 h. Bimetallic NiMo/LaAlOx was fabricated by a wetness incipient impregnation method. In a typical preparation, a certain volume of deionized water solution containing calculated amount of Ni(NO3)2·6H2O (>99.8%) and (NH4)6Mo7O24·4H2O (>99.8%) was dropwise to the 1.0 g of as-prepared LaAlOx binary oxide powders followed by drying and calcining at 120 °C in air for 6 h. Finally, NiMo/LaAlOx catalyst with 12.0 wt.% MoO3 and 4.0 wt.% NiO was obtained by calcining the above precursor powders at 550 °C in air for 4 h.')\n",
        "P=re.compile(r'\\bdried at\\b \\d+\\.\\d+ °C|\\bdried at\\b \\d+ °C|\\bdried at room temperature\\b|\\bdried* in an oven at\\b \\d+ °C')\n",
        "F=P.findall(Paragraph_XingLiu)\n",
        "print(F)"
      ],
      "metadata": {
        "colab": {
          "base_uri": "https://localhost:8080/"
        },
        "id": "N9ok-IrGbpN7",
        "outputId": "4bb4c212-4ddb-4d7d-fff5-bff2b89e3be0"
      },
      "execution_count": 11,
      "outputs": [
        {
          "output_type": "stream",
          "name": "stdout",
          "text": [
            "['dried at 120 °C']\n"
          ]
        }
      ]
    },
    {
      "cell_type": "code",
      "source": [
        "Paragraph_AbdusSalam=(u'Commercial ultra-stable zeolites, USY (Zeolyst international, molar SiO2/Al2O3 = 30, and 80, hereafter referred to as Y30 and Y80) were calcined in air at 550 °C for 6 h before use. Y80 was dealuminated using 3 M oxalic acid (98%, Aldrich) at 70 °C, stirring at 500 rpm [52]. The time of oxalic acid treatment was varied (16 h and 95 h) to obtain Y zeolites with different levels of dealumination (hereafter termed as Y150 and Y200). Thereafter, the sample was thoroughly washed with Milli-Q water to neutralize the pH. It was then oven-dried (80 °C, overnight), and calcined at 550 °C for 6 h. The pristine Y80 zeolite was also desilicated using 0.2 M (NaOH + tetrapropylammonium bromide, TPABr (PDA)) (98%, Sigma-Aldrich) at 25 °C for 0.5 h. Afterward, the sample was washed to neutralize the pH, oven-dried and calcined. The desilicated sample was further exchanged with 0.5 M NH4NO3 at 60 °C for 1 h in three consecutive cycles of ion exchange and centrifugation. The final sample after extensive water washing was dried at 80 °C overnight and calcined at 550 °C for 6 h. Ni and Mo were loaded onto commercial and dealuminated/desilicated USY-zeolite samples using a wet impregnation method. The required amount of ammonium molybdate tetrahydrate (99%, Sigma-Aldrich) and nickel (II) nitrate hexahydrate (99%, Sigma-Aldrich) was first dissolved in water and then added dropwise to the zeolite. The mixture was then stirred for 0.5 h at 25 °C. Water was removed via rotary evaporation (85 °C). The resultant mixture was then oven-dried and calcined in air at 450 °C (5 °C/min) for 4 h. The resulting catalysts are abbreviated as NiMo(D)YXX where NiMo stands for Ni and Mo, D for desilication when used, Y for ultra-stable Y zeolite, and XX for the silica-alumina ratio.')\n",
        "P=re.compile(r'\\bdried at\\b \\d+\\.\\d+ °C|\\bdried at\\b \\d+ °C|\\bdried at room temperature\\b|\\bdried* in an oven at\\b \\d+ °C')\n",
        "F=P.findall(Paragraph_AbdusSalam)\n",
        "print(F)"
      ],
      "metadata": {
        "colab": {
          "base_uri": "https://localhost:8080/"
        },
        "id": "fvcZgpn1fwGa",
        "outputId": "39c48c2f-16b9-4310-842a-059dcc9d2afa"
      },
      "execution_count": 17,
      "outputs": [
        {
          "output_type": "stream",
          "name": "stdout",
          "text": [
            "['dried at 80 °C']\n"
          ]
        }
      ]
    },
    {
      "cell_type": "code",
      "source": [
        "Values=re.compile(r'\\d+\\.\\d+|\\d+|\\broom temperature\\b')\n",
        "i = 0\n",
        "Temps=[]\n",
        "while i < len(F):\n",
        "  print(F[i])\n",
        "  Temps.append(Values.findall(F[i]))\n",
        "  i = i + 1\n",
        "print(type(Temps))\n",
        "print(Temps)"
      ],
      "metadata": {
        "colab": {
          "base_uri": "https://localhost:8080/"
        },
        "id": "f1IS7ncqvTRq",
        "outputId": "4c092e93-4d1d-47f4-ff07-22d25b4bac4f"
      },
      "execution_count": 13,
      "outputs": [
        {
          "output_type": "stream",
          "name": "stdout",
          "text": [
            "<class 'list'>\n",
            "[]\n"
          ]
        }
      ]
    },
    {
      "cell_type": "code",
      "source": [
        "#Units=re.compile(r'°C|°F|K')\n",
        "#i=0\n",
        "#Unit=Units.findall(F[0])\n",
        "#print(Unit)\n",
        "#Unitss=[]\n",
        "\n",
        "#while i < len(F):\n",
        "  #Unitss.append(Units.findall(F[i]))\n",
        "  #i = i + 1\n",
        "#print(Unitss)"
      ],
      "metadata": {
        "id": "hJeiEvDlyyPM"
      },
      "execution_count": 14,
      "outputs": []
    },
    {
      "cell_type": "code",
      "source": [
        "DryingTemp=Temps+Unitss"
      ],
      "metadata": {
        "id": "QkmummddzZDj",
        "colab": {
          "base_uri": "https://localhost:8080/",
          "height": 165
        },
        "outputId": "81d0c922-adf7-4905-f9a8-add14aa78787"
      },
      "execution_count": 15,
      "outputs": [
        {
          "output_type": "error",
          "ename": "NameError",
          "evalue": "ignored",
          "traceback": [
            "\u001b[0;31m---------------------------------------------------------------------------\u001b[0m",
            "\u001b[0;31mNameError\u001b[0m                                 Traceback (most recent call last)",
            "\u001b[0;32m<ipython-input-15-11586956b68d>\u001b[0m in \u001b[0;36m<module>\u001b[0;34m\u001b[0m\n\u001b[0;32m----> 1\u001b[0;31m \u001b[0mDryingTemp\u001b[0m\u001b[0;34m=\u001b[0m\u001b[0mTemps\u001b[0m\u001b[0;34m+\u001b[0m\u001b[0mUnitss\u001b[0m\u001b[0;34m\u001b[0m\u001b[0;34m\u001b[0m\u001b[0m\n\u001b[0m",
            "\u001b[0;31mNameError\u001b[0m: name 'Unitss' is not defined"
          ]
        }
      ]
    }
  ]
}
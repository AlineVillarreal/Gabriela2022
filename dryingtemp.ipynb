{
  "nbformat": 4,
  "nbformat_minor": 0,
  "metadata": {
    "colab": {
      "provenance": [],
      "collapsed_sections": [],
      "authorship_tag": "ABX9TyOWNE2jFQuS/1EaZG+nKvsh",
      "include_colab_link": true
    },
    "kernelspec": {
      "name": "python3",
      "display_name": "Python 3"
    },
    "language_info": {
      "name": "python"
    }
  },
  "cells": [
    {
      "cell_type": "markdown",
      "metadata": {
        "id": "view-in-github",
        "colab_type": "text"
      },
      "source": [
        "<a href=\"https://colab.research.google.com/github/AlineVillarreal/Gabriela2022/blob/main/dryingtemp.ipynb\" target=\"_parent\"><img src=\"https://colab.research.google.com/assets/colab-badge.svg\" alt=\"Open In Colab\"/></a>"
      ]
    },
    {
      "cell_type": "code",
      "source": [
        "import re"
      ],
      "metadata": {
        "id": "xa6cJjhZ-eEQ"
      },
      "execution_count": 2,
      "outputs": []
    },
    {
      "cell_type": "code",
      "execution_count": 3,
      "metadata": {
        "colab": {
          "base_uri": "https://localhost:8080/"
        },
        "id": "DxQisDRdjrhT",
        "outputId": "8919ac89-7657-46cb-f31a-751b32068588"
      },
      "outputs": [
        {
          "output_type": "stream",
          "name": "stdout",
          "text": [
            "['dried at 800 °C', 'dried in an oven at 50 °C', 'dried at room temperature']\n"
          ]
        }
      ],
      "source": [
        "Paragraph=(u'dried atolin 80 °C, dried at 800 °C, dried in an oven at 50 °C, dried at room temperature and then reimpregnated at 100 °C, test long 25 °C')\n",
        "P=re.compile(r'\\bdried at\\b \\d+\\.\\d+ °C|\\bdried at\\b \\d+ °C|\\bdried at room temperature\\b|\\bdried* in an oven at\\b \\d+ °C')\n",
        "F=P.findall(Paragraph)\n",
        "print(F)"
      ]
    },
    {
      "cell_type": "code",
      "source": [
        "Values=re.compile(r'\\d+\\.\\d+|\\d+|\\broom temperature\\b')\n",
        "i = 0\n",
        "Temps=[]\n",
        "while i < len(F):\n",
        "  print(F[i])\n",
        "  Temps.append(Values.findall(F[i]))\n",
        "  i = i + 1\n",
        "print(type(Temps))\n",
        "print(Temps)"
      ],
      "metadata": {
        "colab": {
          "base_uri": "https://localhost:8080/"
        },
        "id": "f1IS7ncqvTRq",
        "outputId": "74bbcfee-b938-45eb-a962-2066a77db282"
      },
      "execution_count": 4,
      "outputs": [
        {
          "output_type": "stream",
          "name": "stdout",
          "text": [
            "dried at 800 °C\n",
            "dried in an oven at 50 °C\n",
            "dried at room temperature\n",
            "<class 'list'>\n",
            "[['800'], ['50'], ['room temperature']]\n"
          ]
        }
      ]
    },
    {
      "cell_type": "code",
      "source": [
        "#Units=re.compile(r'°C|°F|K')\n",
        "#i=0\n",
        "#Unit=Units.findall(F[0])\n",
        "#print(Unit)\n",
        "#Unitss=[]\n",
        "\n",
        "while i < len(F):\n",
        "  Unitss.append(Units.findall(F[i]))\n",
        "  i = i + 1\n",
        "print(Unitss)"
      ],
      "metadata": {
        "colab": {
          "base_uri": "https://localhost:8080/"
        },
        "id": "hJeiEvDlyyPM",
        "outputId": "906a6322-b159-4b5e-bb18-c4867476a896"
      },
      "execution_count": 5,
      "outputs": [
        {
          "output_type": "stream",
          "name": "stdout",
          "text": [
            "[['°C'], ['°C'], []]\n"
          ]
        }
      ]
    },
    {
      "cell_type": "code",
      "source": [
        "DryingTemp=Temps+Unitss"
      ],
      "metadata": {
        "id": "QkmummddzZDj"
      },
      "execution_count": 6,
      "outputs": []
    }
  ]
}
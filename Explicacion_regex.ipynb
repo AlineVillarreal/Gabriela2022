{
  "nbformat": 4,
  "nbformat_minor": 0,
  "metadata": {
    "colab": {
      "provenance": []
    },
    "kernelspec": {
      "name": "python3",
      "display_name": "Python 3"
    },
    "language_info": {
      "name": "python"
    }
  },
  "cells": [
    {
      "cell_type": "code",
      "source": [
        "!pip install chemdataextractor "
      ],
      "metadata": {
        "colab": {
          "base_uri": "https://localhost:8080/"
        },
        "id": "8_3FdOxK2haL",
        "outputId": "bc5b9b51-0053-400e-ba25-c4af1607fa7c"
      },
      "execution_count": 21,
      "outputs": [
        {
          "output_type": "stream",
          "name": "stdout",
          "text": [
            "Looking in indexes: https://pypi.org/simple, https://us-python.pkg.dev/colab-wheels/public/simple/\n",
            "Requirement already satisfied: chemdataextractor in /usr/local/lib/python3.7/dist-packages (1.3.0)\n",
            "Requirement already satisfied: nltk in /usr/local/lib/python3.7/dist-packages (from chemdataextractor) (3.7)\n",
            "Requirement already satisfied: appdirs in /usr/local/lib/python3.7/dist-packages (from chemdataextractor) (1.4.4)\n",
            "Requirement already satisfied: pdfminer.six in /usr/local/lib/python3.7/dist-packages (from chemdataextractor) (20220524)\n",
            "Requirement already satisfied: python-dateutil in /usr/local/lib/python3.7/dist-packages (from chemdataextractor) (2.8.2)\n",
            "Requirement already satisfied: requests in /usr/local/lib/python3.7/dist-packages (from chemdataextractor) (2.23.0)\n",
            "Requirement already satisfied: lxml in /usr/local/lib/python3.7/dist-packages (from chemdataextractor) (4.9.1)\n",
            "Requirement already satisfied: DAWG in /usr/local/lib/python3.7/dist-packages (from chemdataextractor) (0.8.0)\n",
            "Requirement already satisfied: beautifulsoup4 in /usr/local/lib/python3.7/dist-packages (from chemdataextractor) (4.6.3)\n",
            "Requirement already satisfied: click in /usr/local/lib/python3.7/dist-packages (from chemdataextractor) (7.1.2)\n",
            "Requirement already satisfied: python-crfsuite in /usr/local/lib/python3.7/dist-packages (from chemdataextractor) (0.9.8)\n",
            "Requirement already satisfied: cssselect in /usr/local/lib/python3.7/dist-packages (from chemdataextractor) (1.2.0)\n",
            "Requirement already satisfied: six in /usr/local/lib/python3.7/dist-packages (from chemdataextractor) (1.15.0)\n",
            "Requirement already satisfied: PyYAML in /usr/local/lib/python3.7/dist-packages (from chemdataextractor) (6.0)\n",
            "Requirement already satisfied: regex>=2021.8.3 in /usr/local/lib/python3.7/dist-packages (from nltk->chemdataextractor) (2022.6.2)\n",
            "Requirement already satisfied: joblib in /usr/local/lib/python3.7/dist-packages (from nltk->chemdataextractor) (1.2.0)\n",
            "Requirement already satisfied: tqdm in /usr/local/lib/python3.7/dist-packages (from nltk->chemdataextractor) (4.64.1)\n",
            "Requirement already satisfied: charset-normalizer>=2.0.0 in /usr/local/lib/python3.7/dist-packages (from pdfminer.six->chemdataextractor) (2.1.1)\n",
            "Requirement already satisfied: cryptography>=36.0.0 in /usr/local/lib/python3.7/dist-packages (from pdfminer.six->chemdataextractor) (38.0.1)\n",
            "Requirement already satisfied: cffi>=1.12 in /usr/local/lib/python3.7/dist-packages (from cryptography>=36.0.0->pdfminer.six->chemdataextractor) (1.15.1)\n",
            "Requirement already satisfied: pycparser in /usr/local/lib/python3.7/dist-packages (from cffi>=1.12->cryptography>=36.0.0->pdfminer.six->chemdataextractor) (2.21)\n",
            "Requirement already satisfied: chardet<4,>=3.0.2 in /usr/local/lib/python3.7/dist-packages (from requests->chemdataextractor) (3.0.4)\n",
            "Requirement already satisfied: idna<3,>=2.5 in /usr/local/lib/python3.7/dist-packages (from requests->chemdataextractor) (2.10)\n",
            "Requirement already satisfied: urllib3!=1.25.0,!=1.25.1,<1.26,>=1.21.1 in /usr/local/lib/python3.7/dist-packages (from requests->chemdataextractor) (1.24.3)\n",
            "Requirement already satisfied: certifi>=2017.4.17 in /usr/local/lib/python3.7/dist-packages (from requests->chemdataextractor) (2022.9.24)\n"
          ]
        }
      ]
    },
    {
      "cell_type": "code",
      "source": [
        "!cde data download"
      ],
      "metadata": {
        "colab": {
          "base_uri": "https://localhost:8080/"
        },
        "id": "abGnOEjz2tsS",
        "outputId": "7b038374-cdac-46a7-d153-dfcae9adf0fc"
      },
      "execution_count": 22,
      "outputs": [
        {
          "output_type": "stream",
          "name": "stdout",
          "text": [
            "Successfully downloaded 0 new data packages (18 existing)\n"
          ]
        }
      ]
    },
    {
      "cell_type": "code",
      "source": [
        "from chemdataextractor import Document\n",
        "from chemdataextractor.model import Compound\n",
        "from chemdataextractor.doc import Paragraph, Heading\n",
        "\n"
      ],
      "metadata": {
        "id": "yTjrP_UH2sU6"
      },
      "execution_count": 23,
      "outputs": []
    },
    {
      "cell_type": "code",
      "source": [
        "d = Document(\n",
        "    Heading(u'S'),\n",
        "    Paragraph(u'drying')\n",
        ")"
      ],
      "metadata": {
        "id": "_7LvU75f3O55"
      },
      "execution_count": 24,
      "outputs": []
    },
    {
      "cell_type": "code",
      "source": [
        "\n",
        "\n",
        "from chemdataextractor.model import BaseModel, StringType, ListType, ModelType\n",
        "\n",
        "class BoilingPoint(BaseModel):\n",
        "    value = StringType()\n",
        "    units = StringType()\n",
        "    \n",
        "Compound.boiling_points = ListType(ModelType(BoilingPoint))\n",
        "\n"
      ],
      "metadata": {
        "id": "OUb3LBS24qIG"
      },
      "execution_count": 25,
      "outputs": []
    },
    {
      "cell_type": "code",
      "source": [
        "import re #Llama a una libreria que se llama regex (expresiones regulares) = re \n",
        "from chemdataextractor.parse import R, I, W, Optional, merge"
      ],
      "metadata": {
        "id": "xuccYG3s3sWR"
      },
      "execution_count": 26,
      "outputs": []
    },
    {
      "cell_type": "code",
      "source": [
        "import re\n",
        "from chemdataextractor.parse import R, I, W, Optional, merge\n",
        "\n",
        "prefix = (R(u'^b\\.?p\\.?$', re.I) | I(u'dried')|I(u'at')).hide()\n",
        "units = (W(u'°') + Optional(R(u'^[CFK]\\.?$')))(u'units').add_action(merge)\n",
        "value = R(u'^\\d+(\\.\\d+)?$')(u'value')\n",
        "bp = (prefix + value + units)(u'bp')"
      ],
      "metadata": {
        "id": "jtteRRGH3vlC"
      },
      "execution_count": 68,
      "outputs": []
    },
    {
      "cell_type": "code",
      "source": [
        "from chemdataextractor.parse.base import BaseParser\n",
        "from chemdataextractor.utils import first\n",
        "\n",
        "class BpParser(BaseParser):\n",
        "    root = bp\n",
        "\n",
        "    def interpret(self, result, start, end):\n",
        "        compound = Compound(\n",
        "            boiling_points=[\n",
        "                BoilingPoint(\n",
        "                    value=first(result.xpath('./value/text()')),\n",
        "                    units=first(result.xpath('./units/text()'))\n",
        "                )\n",
        "            ]\n",
        "        )\n",
        "        yield compound\n",
        "\n",
        "Paragraph.parsers = [BpParser()]\n",
        "\n",
        "#Running the New Parser\n",
        "\n",
        "d = Document(\n",
        "    Heading(u'S'),\n",
        "    Paragraph(u'dried at 80 °C, calcined at 50°C, and then reimpregnated at 100 °C')\n",
        ")\n",
        "\n",
        "d.records.serialize()\n",
        "\n"
      ],
      "metadata": {
        "colab": {
          "base_uri": "https://localhost:8080/"
        },
        "id": "dxqP7uug4Pfs",
        "outputId": "940f2dfe-f0b6-4b28-905b-4d4c0f1b0897"
      },
      "execution_count": 70,
      "outputs": [
        {
          "output_type": "execute_result",
          "data": {
            "text/plain": [
              "[{'boiling_points': [{'value': '80', 'units': '°C'}]},\n",
              " {'boiling_points': [{'value': '50', 'units': '°C'}]},\n",
              " {'boiling_points': [{'value': '100', 'units': '°C'}]}]"
            ]
          },
          "metadata": {},
          "execution_count": 70
        }
      ]
    },
    {
      "cell_type": "code",
      "execution_count": 29,
      "metadata": {
        "id": "9DMadlZ_HY7H"
      },
      "outputs": [],
      "source": [
        "import re #Llama a una libreria que se llama regex (expresiones regulares) = re \n",
        "from chemdataextractor.parse import R, I, W, Optional, merge #funciones definidas dentro de chemdataextractor \n",
        "# R --> regex \n",
        "# I --> IWord : Encuentra el texto sin importar las mayúsculas y las minúsculas\n",
        "# W --> W : Encuentra el texto exactamente \n",
        "# Documentación de regex: https://docs.python.org/3/library/re.html\n",
        "\n",
        "prefix = (R(u'^b\\.?p\\.?$', re.I) | I(u'boiling') + I(u'point')).hide()\n",
        "#(u'^b\\.?p\\.?$', re.I) | I(u'boiling') + I(u'point') --> Expresión regular \n",
        "# u --> unicodes \n",
        "#'^b\\.?p\\.?$' --> ' ' --> string, ^b --> Encuentra el inicio del string que tiene una b, \\. --> encuentra un punto, \n",
        "#? --> Identifica 0 o 1 veces que ocurra la cadena de texto anterior en el texto\n",
        "#p\\. --> Encuentra p.\n",
        "#$ --> Final del string \n",
        "# b.fasdfvdfgp. \n",
        "#re.I : Encuentra el texto sin importar las mayúsculas y las minúsculas\n",
        "#No importa si es b.p. o B.P.\n",
        "\n",
        "# | --> barra vertical identifica lo de la derecha y lo de la izquierda. \n",
        "# I --> no importa si son mayúsculas o minúsculas (u'boiling')\n",
        "#.hide() --> ocultalo \n",
        "\n",
        "units = (W(u'°') + Optional(R(u'^[CFK]\\.?$')))(u'units').add_action(merge)\n",
        "value = R(u'^\\d+(\\.\\d+)?$')(u'value')\n",
        "#^ --> inicio de la cadena de texto \n",
        "#\\ --> Quita lo especial de un carácter especial \n",
        "# \\d --> Encuentra un número (0-9) y otros carácteres rel con matematicass\n",
        "#+ --> Encuentra otra vez la expresión regular que le precede \n",
        "#() --> Encuentra la expresión regular dentro del paréntesis e indica el inicio de un grupo \n",
        "\n",
        "bp = (prefix + value + units)(u'bp')"
      ]
    }
  ]
}